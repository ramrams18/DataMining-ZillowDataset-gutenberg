{
 "cells": [
  {
   "cell_type": "code",
   "execution_count": null,
   "id": "afe35a6d",
   "metadata": {},
   "outputs": [],
   "source": [
    "#Compiler : JupyterNotebook"
   ]
  },
  {
   "cell_type": "code",
   "execution_count": 1,
   "id": "40d14231",
   "metadata": {},
   "outputs": [
    {
     "name": "stdout",
     "output_type": "stream",
     "text": [
      "Collecting package metadata (current_repodata.json): done\n",
      "Solving environment: done\n",
      "\n",
      "# All requested packages already installed.\n",
      "\n",
      "\n",
      "Note: you may need to restart the kernel to use updated packages.\n"
     ]
    }
   ],
   "source": [
    "conda install -c anaconda nltk "
   ]
  },
  {
   "cell_type": "code",
   "execution_count": 2,
   "id": "db329168",
   "metadata": {},
   "outputs": [
    {
     "name": "stderr",
     "output_type": "stream",
     "text": [
      "[nltk_data] Downloading package stopwords to\n",
      "[nltk_data]     /Users/sriramvarmakalidindi/nltk_data...\n",
      "[nltk_data]   Package stopwords is already up-to-date!\n",
      "[nltk_data] Downloading package punkt to\n",
      "[nltk_data]     /Users/sriramvarmakalidindi/nltk_data...\n",
      "[nltk_data]   Package punkt is already up-to-date!\n"
     ]
    },
    {
     "data": {
      "text/plain": [
       "True"
      ]
     },
     "execution_count": 2,
     "metadata": {},
     "output_type": "execute_result"
    }
   ],
   "source": [
    "import nltk\n",
    "nltk.download('stopwords')\n",
    "nltk.download('punkt')"
   ]
  },
  {
   "cell_type": "code",
   "execution_count": 12,
   "id": "289db372",
   "metadata": {},
   "outputs": [
    {
     "name": "stdout",
     "output_type": "stream",
     "text": [
      "[('children', 19), ('would', 18), ('kingdom', 15), ('one', 15), ('thousand', 15), ('upon', 13), ('country', 12), ('number', 11), ('therefore', 11), ('may', 11), ('great', 10), ('year', 10), ('many', 9), ('child', 9), ('parents', 8), ('well', 8), ('years', 8), ('two', 8), ('old', 8), ('hundred', 8)]\n"
     ]
    }
   ],
   "source": [
    "#finding most common 20 stopwords \n",
    "import string\n",
    "from nltk import word_tokenize\n",
    "from nltk.corpus import stopwords\n",
    "s = open(\"test.txt\", encoding='cp1252').read()\n",
    "stop = set(stopwords.words('english') + list(string.punctuation))\n",
    "k = [i for i in word_tokenize(s.lower()) if i not in stop]\n",
    "#print(k)\n",
    "\n",
    "from collections import Counter\n",
    "\n",
    "counts = Counter(k)\n",
    "top5 = counts.most_common(20)\n",
    "print(top5)"
   ]
  }
 ],
 "metadata": {
  "kernelspec": {
   "display_name": "Python 3",
   "language": "python",
   "name": "python3"
  },
  "language_info": {
   "codemirror_mode": {
    "name": "ipython",
    "version": 3
   },
   "file_extension": ".py",
   "mimetype": "text/x-python",
   "name": "python",
   "nbconvert_exporter": "python",
   "pygments_lexer": "ipython3",
   "version": "3.8.8"
  }
 },
 "nbformat": 4,
 "nbformat_minor": 5
}
